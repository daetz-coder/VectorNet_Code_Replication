{
 "cells": [
  {
   "cell_type": "code",
   "execution_count": 1,
   "id": "a099aae7-eba3-4445-8fb3-bf568492d644",
   "metadata": {},
   "outputs": [
    {
     "name": "stdout",
     "output_type": "stream",
     "text": [
      "folder: val\n",
      "100%|███████████████████████████████████████████| 14/14 [00:00<00:00, 15.69it/s]\n"
     ]
    }
   ],
   "source": [
    "!python compute_feature_module.py"
   ]
  },
  {
   "cell_type": "code",
   "execution_count": 2,
   "id": "a1a8c281-ed0c-43b2-a6eb-3a9732dd5ea7",
   "metadata": {},
   "outputs": [],
   "source": [
    "!rm -rf ./interm_data/"
   ]
  },
  {
   "cell_type": "code",
   "execution_count": 3,
   "id": "ef75b015-d0c7-4442-9d55-49d58220d7f1",
   "metadata": {},
   "outputs": [
    {
     "name": "stdout",
     "output_type": "stream",
     "text": [
      "folder: test\n",
      "100%|███████████████████████████████████████████| 14/14 [00:00<00:00, 15.64it/s]\n",
      "folder: train\n",
      "100%|███████████████████████████████████████████| 14/14 [00:00<00:00, 15.62it/s]\n",
      "folder: val\n",
      "100%|███████████████████████████████████████████| 14/14 [00:00<00:00, 15.78it/s]\n"
     ]
    }
   ],
   "source": [
    "!python compute_feature_module.py"
   ]
  },
  {
   "cell_type": "code",
   "execution_count": null,
   "id": "d6c591ab-0890-469c-9e0c-b24b214fa070",
   "metadata": {},
   "outputs": [],
   "source": []
  }
 ],
 "metadata": {
  "kernelspec": {
   "display_name": "Python 3 (ipykernel)",
   "language": "python",
   "name": "python3"
  },
  "language_info": {
   "codemirror_mode": {
    "name": "ipython",
    "version": 3
   },
   "file_extension": ".py",
   "mimetype": "text/x-python",
   "name": "python",
   "nbconvert_exporter": "python",
   "pygments_lexer": "ipython3",
   "version": "3.8.10"
  }
 },
 "nbformat": 4,
 "nbformat_minor": 5
}
