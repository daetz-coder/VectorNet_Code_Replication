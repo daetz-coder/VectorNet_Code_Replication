{
 "cells": [
  {
   "cell_type": "code",
   "execution_count": 2,
   "id": "393c1ec5-6bb7-4dae-8ae4-477ea065723c",
   "metadata": {},
   "outputs": [
    {
     "name": "stdout",
     "output_type": "stream",
     "text": [
      "数据类型: 字典\n",
      "内容: {'11800': array([3883.24944032, 2272.26675381]), '16177': array([ 157.13437154, 2314.48050611]), '20804': array([2194.22488418,  741.01607575]), '2468': array([ 149.00382397, 2492.85481975]), '30414': array([ 164.58027491, 2326.03423623]), '31341': array([ 533.7065245, 3288.2346894]), '33333': array([2585.01087006, 1191.45401135]), '35305': array([2198.67330288,  745.57235805]), '36858': array([ 525.74110645, 3596.16416218]), '38439': array([ 383.07367424, 1655.30600521]), '40764': array([2588.47976224, 1200.3062035 ]), '4674': array([ 152.19129255, 2335.84856112]), '53760': array([2970.85847905, 1430.90273245]), '893': array([ 540.84056313, 2990.74150643])}\n"
     ]
    }
   ],
   "source": [
    "import pickle\n",
    "\n",
    "with open('./interm_data/test-norm_center_dict.pkl', 'rb') as file:\n",
    "    data = pickle.load(file)\n",
    "\n",
    "# 检查数据类型并展示内容和形状\n",
    "if isinstance(data, dict):\n",
    "    print(\"数据类型: 字典\")\n",
    "    print(\"内容:\", data)\n",
    "elif isinstance(data, list):\n",
    "    print(\"数据类型: 列表\")\n",
    "    print(\"内容:\", data)\n",
    "    print(\"长度:\", len(data))\n",
    "elif isinstance(data, np.ndarray):\n",
    "    print(\"数据类型: NumPy数组\")\n",
    "    print(\"形状:\", data.shape)\n",
    "    print(\"内容:\", data)\n",
    "else:\n",
    "    print(\"数据类型:\", type(data))\n",
    "    print(\"内容:\", data)"
   ]
  },
  {
   "cell_type": "code",
   "execution_count": 5,
   "id": "02e1bd6e-39cb-4c68-92b6-01c26fa9b29d",
   "metadata": {},
   "outputs": [
    {
     "name": "stdout",
     "output_type": "stream",
     "text": [
      "Loaded data is a dictionary.\n",
      "Keys: dict_keys(['11800', '16177', '20804', '2468', '30414', '31341', '33333', '35305', '36858', '38439', '40764', '4674', '53760', '893'])\n",
      "Key: 11800 -> Value: [3883.24944032 2272.26675381]\n",
      "Key: 16177 -> Value: [ 157.13437154 2314.48050611]\n",
      "Key: 20804 -> Value: [2194.22488418  741.01607575]\n",
      "Key: 2468 -> Value: [ 149.00382397 2492.85481975]\n",
      "Key: 30414 -> Value: [ 164.58027491 2326.03423623]\n",
      "Key: 31341 -> Value: [ 533.7065245 3288.2346894]\n",
      "Key: 33333 -> Value: [2585.01087006 1191.45401135]\n",
      "Key: 35305 -> Value: [2198.67330288  745.57235805]\n",
      "Key: 36858 -> Value: [ 525.74110645 3596.16416218]\n",
      "Key: 38439 -> Value: [ 383.07367424 1655.30600521]\n",
      "Key: 40764 -> Value: [2588.47976224 1200.3062035 ]\n",
      "Key: 4674 -> Value: [ 152.19129255 2335.84856112]\n",
      "Key: 53760 -> Value: [2970.85847905 1430.90273245]\n",
      "Key: 893 -> Value: [ 540.84056313 2990.74150643]\n"
     ]
    }
   ],
   "source": [
    "# 检查字典的类型和内容\n",
    "if isinstance(data, dict):\n",
    "    print(\"Loaded data is a dictionary.\")\n",
    "    # 打印字典的键\n",
    "    print(\"Keys:\", data.keys())\n",
    "    # 打印字典的值（可选：根据需要打印特定的值）\n",
    "    for key, value in data.items():\n",
    "        print(f\"Key: {key} -> Value: {value}\")\n",
    "else:\n",
    "    print(\"Loaded data is not a dictionary.\")"
   ]
  },
  {
   "cell_type": "code",
   "execution_count": null,
   "id": "9d0e7efa-8371-4b64-b215-36885aa26e96",
   "metadata": {},
   "outputs": [],
   "source": []
  }
 ],
 "metadata": {
  "kernelspec": {
   "display_name": "Python 3 (ipykernel)",
   "language": "python",
   "name": "python3"
  },
  "language_info": {
   "codemirror_mode": {
    "name": "ipython",
    "version": 3
   },
   "file_extension": ".py",
   "mimetype": "text/x-python",
   "name": "python",
   "nbconvert_exporter": "python",
   "pygments_lexer": "ipython3",
   "version": "3.8.10"
  }
 },
 "nbformat": 4,
 "nbformat_minor": 5
}
