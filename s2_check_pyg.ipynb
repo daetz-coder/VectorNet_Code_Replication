{
 "cells": [
  {
   "cell_type": "code",
   "execution_count": 2,
   "id": "02f446f4-eff1-43fb-9745-50659aee2660",
   "metadata": {},
   "outputs": [
    {
     "name": "stdout",
     "output_type": "stream",
     "text": [
      "Looking in indexes: http://mirrors.aliyun.com/pypi/simple\n",
      "Processing ./whl/torch_cluster-1.5.9-cp38-cp38-linux_x86_64.whl\n",
      "Processing ./whl/torch_scatter-2.0.9-cp38-cp38-linux_x86_64.whl\n",
      "Processing ./whl/torch_sparse-0.6.12-cp38-cp38-linux_x86_64.whl\n",
      "Processing ./whl/torch_spline_conv-1.2.1-cp38-cp38-linux_x86_64.whl\n",
      "Requirement already satisfied: scipy in /root/miniconda3/lib/python3.8/site-packages (from torch-sparse==0.6.12) (1.9.3)\n",
      "Requirement already satisfied: numpy<1.26.0,>=1.18.5 in /root/miniconda3/lib/python3.8/site-packages (from scipy->torch-sparse==0.6.12) (1.22.0)\n",
      "Installing collected packages: torch-spline-conv, torch-sparse, torch-scatter, torch-cluster\n",
      "Successfully installed torch-cluster-1.5.9 torch-scatter-2.0.9 torch-sparse-0.6.12 torch-spline-conv-1.2.1\n",
      "\u001b[33mWARNING: Running pip as the 'root' user can result in broken permissions and conflicting behaviour with the system package manager. It is recommended to use a virtual environment instead: https://pip.pypa.io/warnings/venv\u001b[0m\n"
     ]
    }
   ],
   "source": [
    "!pip install ./whl/*.whl"
   ]
  },
  {
   "cell_type": "code",
   "execution_count": 3,
   "id": "d6de2b11-a1b1-481f-8277-126a6d13f0a3",
   "metadata": {
    "scrolled": true,
    "tags": []
   },
   "outputs": [
    {
     "name": "stdout",
     "output_type": "stream",
     "text": [
      "Looking in indexes: http://mirrors.aliyun.com/pypi/simple\n",
      "Collecting torch-geometric\n",
      "  Downloading http://mirrors.aliyun.com/pypi/packages/97/f0/66ad3a5263aa16efb534aaf4e7da23ffc28c84efbbd720b0c5ec174f6242/torch_geometric-2.5.3-py3-none-any.whl (1.1 MB)\n",
      "\u001b[K     |████████████████████████████████| 1.1 MB 1.3 MB/s eta 0:00:01\n",
      "\u001b[?25hRequirement already satisfied: pyparsing in /root/miniconda3/lib/python3.8/site-packages (from torch-geometric) (3.0.6)\n",
      "Requirement already satisfied: scikit-learn in /root/miniconda3/lib/python3.8/site-packages (from torch-geometric) (0.24.2)\n",
      "Requirement already satisfied: aiohttp in /root/miniconda3/lib/python3.8/site-packages (from torch-geometric) (3.9.5)\n",
      "Requirement already satisfied: tqdm in /root/miniconda3/lib/python3.8/site-packages (from torch-geometric) (4.61.2)\n",
      "Requirement already satisfied: scipy in /root/miniconda3/lib/python3.8/site-packages (from torch-geometric) (1.9.3)\n",
      "Requirement already satisfied: jinja2 in /root/miniconda3/lib/python3.8/site-packages (from torch-geometric) (3.0.3)\n",
      "Requirement already satisfied: psutil>=5.8.0 in /root/miniconda3/lib/python3.8/site-packages (from torch-geometric) (6.0.0)\n",
      "Requirement already satisfied: requests in /root/miniconda3/lib/python3.8/site-packages (from torch-geometric) (2.25.1)\n",
      "Requirement already satisfied: fsspec in /root/miniconda3/lib/python3.8/site-packages (from torch-geometric) (2024.6.0)\n",
      "Requirement already satisfied: numpy in /root/miniconda3/lib/python3.8/site-packages (from torch-geometric) (1.22.0)\n",
      "Requirement already satisfied: async-timeout<5.0,>=4.0 in /root/miniconda3/lib/python3.8/site-packages (from aiohttp->torch-geometric) (4.0.3)\n",
      "Requirement already satisfied: frozenlist>=1.1.1 in /root/miniconda3/lib/python3.8/site-packages (from aiohttp->torch-geometric) (1.4.1)\n",
      "Requirement already satisfied: attrs>=17.3.0 in /root/miniconda3/lib/python3.8/site-packages (from aiohttp->torch-geometric) (21.2.0)\n",
      "Requirement already satisfied: aiosignal>=1.1.2 in /root/miniconda3/lib/python3.8/site-packages (from aiohttp->torch-geometric) (1.3.1)\n",
      "Requirement already satisfied: yarl<2.0,>=1.0 in /root/miniconda3/lib/python3.8/site-packages (from aiohttp->torch-geometric) (1.9.4)\n",
      "Requirement already satisfied: multidict<7.0,>=4.5 in /root/miniconda3/lib/python3.8/site-packages (from aiohttp->torch-geometric) (6.0.5)\n",
      "Requirement already satisfied: idna>=2.0 in /root/miniconda3/lib/python3.8/site-packages (from yarl<2.0,>=1.0->aiohttp->torch-geometric) (2.10)\n",
      "Requirement already satisfied: MarkupSafe>=2.0 in /root/miniconda3/lib/python3.8/site-packages (from jinja2->torch-geometric) (2.0.1)\n",
      "Requirement already satisfied: chardet<5,>=3.0.2 in /root/miniconda3/lib/python3.8/site-packages (from requests->torch-geometric) (4.0.0)\n",
      "Requirement already satisfied: certifi>=2017.4.17 in /root/miniconda3/lib/python3.8/site-packages (from requests->torch-geometric) (2021.5.30)\n",
      "Requirement already satisfied: urllib3<1.27,>=1.21.1 in /root/miniconda3/lib/python3.8/site-packages (from requests->torch-geometric) (1.26.6)\n",
      "Requirement already satisfied: joblib>=0.11 in /root/miniconda3/lib/python3.8/site-packages (from scikit-learn->torch-geometric) (1.3.2)\n",
      "Requirement already satisfied: threadpoolctl>=2.0.0 in /root/miniconda3/lib/python3.8/site-packages (from scikit-learn->torch-geometric) (3.2.0)\n",
      "Installing collected packages: torch-geometric\n",
      "Successfully installed torch-geometric-2.5.3\n",
      "\u001b[33mWARNING: Running pip as the 'root' user can result in broken permissions and conflicting behaviour with the system package manager. It is recommended to use a virtual environment instead: https://pip.pypa.io/warnings/venv\u001b[0m\n"
     ]
    }
   ],
   "source": [
    "!pip install torch-geometric"
   ]
  },
  {
   "cell_type": "code",
   "execution_count": 2,
   "id": "693774d2-3d2f-4f3d-b197-66fae2f9050c",
   "metadata": {},
   "outputs": [
    {
     "name": "stdout",
     "output_type": "stream",
     "text": [
      "PyTorch version: 1.10.0+cu113\n"
     ]
    }
   ],
   "source": [
    "import torch\n",
    "\n",
    "# Check the PyTorch version\n",
    "print(\"PyTorch version:\", torch.__version__)"
   ]
  },
  {
   "cell_type": "code",
   "execution_count": 3,
   "id": "bfb7737b-eac4-4362-a385-123582b91618",
   "metadata": {},
   "outputs": [
    {
     "name": "stdout",
     "output_type": "stream",
     "text": [
      "Python version: 3.8.10\n"
     ]
    }
   ],
   "source": [
    "import sys\n",
    "\n",
    "# 获取并打印Python的主要版本号、次要版本号和微小版本号\n",
    "version_info = sys.version_info\n",
    "print(f\"Python version: {version_info.major}.{version_info.minor}.{version_info.micro}\")\n"
   ]
  },
  {
   "cell_type": "code",
   "execution_count": 6,
   "id": "56b3ced6-444d-4262-ac80-c0dad57244f4",
   "metadata": {},
   "outputs": [
    {
     "name": "stdout",
     "output_type": "stream",
     "text": [
      "Name: torch-geometric\n",
      "Version: 2.5.3\n",
      "Summary: Graph Neural Network Library for PyTorch\n",
      "Home-page: None\n",
      "Author: None\n",
      "Author-email: Matthias Fey <matthias@pyg.org>\n",
      "License: None\n",
      "Location: /root/miniconda3/lib/python3.8/site-packages\n",
      "Requires: numpy, psutil, fsspec, pyparsing, scikit-learn, jinja2, requests, scipy, tqdm, aiohttp\n",
      "Required-by: \n"
     ]
    }
   ],
   "source": [
    "!pip show torch-geometric"
   ]
  },
  {
   "cell_type": "code",
   "execution_count": 1,
   "id": "9334f43f-6ca6-4335-9aeb-5c3ac73930df",
   "metadata": {},
   "outputs": [
    {
     "name": "stdout",
     "output_type": "stream",
     "text": [
      "torch_geometric version: 2.0.1\n"
     ]
    }
   ],
   "source": [
    "import torch_geometric\n",
    "\n",
    "# 打印 torch_geometric 的版本\n",
    "print(\"torch_geometric version:\", torch_geometric.__version__)\n"
   ]
  },
  {
   "cell_type": "code",
   "execution_count": 9,
   "id": "a8c9e0e6-4feb-472a-974f-ee487526a694",
   "metadata": {},
   "outputs": [
    {
     "name": "stdout",
     "output_type": "stream",
     "text": [
      "Looking in indexes: http://mirrors.aliyun.com/pypi/simple\n",
      "Collecting torch-geometric==2.0.1\n",
      "  Downloading http://mirrors.aliyun.com/pypi/packages/85/8d/ab9c9e8b0497ee63edee1d49e1b6a991b89829358f832be239e08ae9d53d/torch_geometric-2.0.1.tar.gz (308 kB)\n",
      "\u001b[K     |████████████████████████████████| 308 kB 1.5 MB/s eta 0:00:01\n",
      "\u001b[?25hRequirement already satisfied: numpy in /root/miniconda3/lib/python3.8/site-packages (from torch-geometric==2.0.1) (1.22.0)\n",
      "Requirement already satisfied: tqdm in /root/miniconda3/lib/python3.8/site-packages (from torch-geometric==2.0.1) (4.61.2)\n",
      "Requirement already satisfied: scipy in /root/miniconda3/lib/python3.8/site-packages (from torch-geometric==2.0.1) (1.9.3)\n",
      "Requirement already satisfied: networkx in /root/miniconda3/lib/python3.8/site-packages (from torch-geometric==2.0.1) (3.1)\n",
      "Requirement already satisfied: scikit-learn in /root/miniconda3/lib/python3.8/site-packages (from torch-geometric==2.0.1) (0.24.2)\n",
      "Requirement already satisfied: requests in /root/miniconda3/lib/python3.8/site-packages (from torch-geometric==2.0.1) (2.25.1)\n",
      "Requirement already satisfied: pandas in /root/miniconda3/lib/python3.8/site-packages (from torch-geometric==2.0.1) (1.4.4)\n",
      "Requirement already satisfied: rdflib in /root/miniconda3/lib/python3.8/site-packages (from torch-geometric==2.0.1) (7.0.0)\n",
      "Requirement already satisfied: googledrivedownloader in /root/miniconda3/lib/python3.8/site-packages (from torch-geometric==2.0.1) (0.4)\n",
      "Requirement already satisfied: jinja2 in /root/miniconda3/lib/python3.8/site-packages (from torch-geometric==2.0.1) (3.0.3)\n",
      "Requirement already satisfied: pyparsing in /root/miniconda3/lib/python3.8/site-packages (from torch-geometric==2.0.1) (3.0.6)\n",
      "Requirement already satisfied: yacs in /root/miniconda3/lib/python3.8/site-packages (from torch-geometric==2.0.1) (0.1.8)\n",
      "Requirement already satisfied: PyYAML in /root/miniconda3/lib/python3.8/site-packages (from torch-geometric==2.0.1) (6.0.2rc1)\n",
      "Requirement already satisfied: MarkupSafe>=2.0 in /root/miniconda3/lib/python3.8/site-packages (from jinja2->torch-geometric==2.0.1) (2.0.1)\n",
      "Requirement already satisfied: python-dateutil>=2.8.1 in /root/miniconda3/lib/python3.8/site-packages (from pandas->torch-geometric==2.0.1) (2.8.2)\n",
      "Requirement already satisfied: pytz>=2020.1 in /root/miniconda3/lib/python3.8/site-packages (from pandas->torch-geometric==2.0.1) (2021.3)\n",
      "Requirement already satisfied: six>=1.5 in /root/miniconda3/lib/python3.8/site-packages (from python-dateutil>=2.8.1->pandas->torch-geometric==2.0.1) (1.16.0)\n",
      "Requirement already satisfied: isodate<0.7.0,>=0.6.0 in /root/miniconda3/lib/python3.8/site-packages (from rdflib->torch-geometric==2.0.1) (0.6.1)\n",
      "Requirement already satisfied: urllib3<1.27,>=1.21.1 in /root/miniconda3/lib/python3.8/site-packages (from requests->torch-geometric==2.0.1) (1.26.6)\n",
      "Requirement already satisfied: idna<3,>=2.5 in /root/miniconda3/lib/python3.8/site-packages (from requests->torch-geometric==2.0.1) (2.10)\n",
      "Requirement already satisfied: certifi>=2017.4.17 in /root/miniconda3/lib/python3.8/site-packages (from requests->torch-geometric==2.0.1) (2021.5.30)\n",
      "Requirement already satisfied: chardet<5,>=3.0.2 in /root/miniconda3/lib/python3.8/site-packages (from requests->torch-geometric==2.0.1) (4.0.0)\n",
      "Requirement already satisfied: threadpoolctl>=2.0.0 in /root/miniconda3/lib/python3.8/site-packages (from scikit-learn->torch-geometric==2.0.1) (3.2.0)\n",
      "Requirement already satisfied: joblib>=0.11 in /root/miniconda3/lib/python3.8/site-packages (from scikit-learn->torch-geometric==2.0.1) (1.3.2)\n",
      "Building wheels for collected packages: torch-geometric\n",
      "  Building wheel for torch-geometric (setup.py) ... \u001b[?25ldone\n",
      "\u001b[?25h  Created wheel for torch-geometric: filename=torch_geometric-2.0.1-py3-none-any.whl size=513805 sha256=fff8b061ad35344a15b5908b37cf668814dfbb5e97e4a3cd632d4c089d2f4222\n",
      "  Stored in directory: /root/.cache/pip/wheels/91/2e/b0/b59aab5d1028288dc4182030156e59bc6a86fe90faeaf5f41a\n",
      "Successfully built torch-geometric\n",
      "Installing collected packages: torch-geometric\n",
      "Successfully installed torch-geometric-2.0.1\n",
      "\u001b[33mWARNING: Running pip as the 'root' user can result in broken permissions and conflicting behaviour with the system package manager. It is recommended to use a virtual environment instead: https://pip.pypa.io/warnings/venv\u001b[0m\n"
     ]
    }
   ],
   "source": [
    "!pip install torch-geometric==2.0.1"
   ]
  },
  {
   "cell_type": "code",
   "execution_count": null,
   "id": "3a2f0a96-7a81-47c9-af11-6271fa01be5a",
   "metadata": {},
   "outputs": [],
   "source": []
  }
 ],
 "metadata": {
  "kernelspec": {
   "display_name": "Python 3 (ipykernel)",
   "language": "python",
   "name": "python3"
  },
  "language_info": {
   "codemirror_mode": {
    "name": "ipython",
    "version": 3
   },
   "file_extension": ".py",
   "mimetype": "text/x-python",
   "name": "python",
   "nbconvert_exporter": "python",
   "pygments_lexer": "ipython3",
   "version": "3.8.10"
  }
 },
 "nbformat": 4,
 "nbformat_minor": 5
}
